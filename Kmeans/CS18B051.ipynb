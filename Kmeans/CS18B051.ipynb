{
  "nbformat": 4,
  "nbformat_minor": 0,
  "metadata": {
    "kernelspec": {
      "name": "python3",
      "display_name": "Python 3"
    },
    "colab": {
      "name": "CS5691_student_version_a2.ipynb",
      "provenance": [],
      "collapsed_sections": [],
      "toc_visible": true
    },
    "language_info": {
      "name": "python"
    }
  },
  "cells": [
    {
      "cell_type": "markdown",
      "metadata": {
        "id": "_QmWxLLA2YOF"
      },
      "source": [
        "# General Instructions to students:\n",
        "\n",
        "1. There are 5 types of cells in this notebook. The cell type will be indicated within the cell.\n",
        "    1. Markdown cells with problem written in it. (DO NOT TOUCH THESE CELLS) (**Cell type: TextRead**)\n",
        "    2. Python cells with setup code for further evaluations. (DO NOT TOUCH THESE CELLS) (**Cell type: CodeRead**)\n",
        "    3. Python code cells with some template code or empty cell. (FILL CODE IN THESE CELLS BASED ON INSTRUCTIONS IN CURRENT AND PREVIOUS CELLS) (**Cell type: CodeWrite**)\n",
        "    4. Markdown cells where a written reasoning or conclusion is expected. (WRITE SENTENCES IN THESE CELLS) (**Cell type: TextWrite**)\n",
        "    5. Temporary code cells for convenience and TAs. (YOU MAY DO WHAT YOU WILL WITH THESE CELLS, TAs WILL REPLACE WHATEVER YOU WRITE HERE WITH OFFICIAL EVALUATION CODE) (**Cell type: Convenience**)\n",
        "    \n",
        "2. You are not allowed to insert new cells in the submitted notebook.\n",
        "\n",
        "3. You are not allowed to **import** any extra packages.\n",
        "\n",
        "4. The code is to be written in Python 3.6 syntax. Latest versions of other packages maybe assumed.\n",
        "\n",
        "5. In CodeWrite Cells, the only outputs to be given are plots asked in the question. Nothing else to be output/print. \n",
        "\n",
        "6. If TextWrite cells ask you to give accuracy/error/other numbers you can print them on the code cells, but remove the print statements before submitting.\n",
        "\n",
        "7. Any runtime failures on the submitted notebook as it is will get zero marks.\n",
        "\n",
        "8. All code must be written by yourself. Copying from other students/material on the web is strictly prohibited. Any violations will result in zero marks.\n",
        "\n",
        "9. The dataset is given as .npz file, and will contain data in  numpy array. \n",
        "\n",
        "10. All plots must be labelled properly, all tables must have rows and columns named properly.\n",
        "\n",
        "11. You are allowed to use the numpy library to calculate eigen values. All other functions for reconstruction, clustering, etc., should be written from scratch.\n",
        "\n",
        "12. Change the name of the file with your roll no.\n",
        "\n"
      ]
    },
    {
      "cell_type": "code",
      "metadata": {
        "id": "bLOjYzzA2YOI"
      },
      "source": [
        "# Cell type : CodeRead\n",
        "\n",
        "import numpy as np\n",
        "import matplotlib.pyplot as plt\n"
      ],
      "execution_count": 54,
      "outputs": []
    },
    {
      "cell_type": "markdown",
      "metadata": {
        "id": "s3PBeaFv2YOO"
      },
      "source": [
        "**Cell type : TextRead**\n",
        "\n",
        "# Problem 5: Life in Lower Dimensions\n",
        "\n",
        "You are provided with a dataset of 1797 images - each image is 8x8 pixels and provided as a feature vector of length 64. You will try your hands at transforming this dataset to a lower-dimensional space using PCA, and perform K-means clustering the images in this reduced space.\n",
        " \n",
        "\n",
        "\n"
      ]
    },
    {
      "cell_type": "code",
      "metadata": {
        "id": "U2idb_9Tbj6i"
      },
      "source": [
        "# Cell type : CodeWrite\n",
        "# write the function for PCA and K-means clustering here. \n",
        "\n",
        "\n",
        "#M reduced dimensions D initial dimensions X input matrix \n",
        "def PCA1(M, D, X):\n",
        "    X_bar = np.mean(X,axis = 0)[None, :]\n",
        "    S = np.dot(X.T-X_bar.T, X-X_bar)/len(X)\n",
        "    eigenvals, eigenvecs = np.linalg.eig(S)\n",
        "    #plt.plot(eigenvals)\n",
        "    N = len(X)\n",
        "    U = np.array(eigenvecs)\n",
        "    Z = np.zeros((N,M))\n",
        "    b = np.zeros(D)\n",
        "    for n in range(N):\n",
        "        for i in range(M):\n",
        "            Z[n,i] = np.dot(X[n], U[: , i])\n",
        "    for i in range(M,D):\n",
        "        b[i] = np.dot(X_bar, U[: , i])\n",
        "    \n",
        "    X_tilde = np.zeros(X.shape)\n",
        "    \n",
        "    for n in range(N):\n",
        "        for i in range(M):\n",
        "            X_tilde[n, : ] += Z[n,i]*U[: , i].T\n",
        "        for i in range(M,D):\n",
        "            X_tilde[n, : ] += b[i]*U[: , i].T\n",
        "    \n",
        "    return X_tilde\n",
        "\n",
        "\n",
        "def PCA2(M, D, X):\n",
        "    X_bar = np.mean(X,axis = 0)[None, :]\n",
        "    S = np.dot(X.T-X_bar.T, X-X_bar)/len(X)\n",
        "    eigenvals, eigenvecs = np.linalg.eig(S)\n",
        "    #plt.plot(eigenvals)\n",
        "    N = len(X)\n",
        "    U = np.array(eigenvecs)\n",
        "    Z = np.zeros((N,M))\n",
        "    b = np.zeros(D)\n",
        "    for n in range(N):\n",
        "        for i in range(M):\n",
        "            Z[n,i] = np.dot(X[n], U[: , i])\n",
        "    return Z\n",
        "\n",
        "\n",
        "def kmeans(X,k):\n",
        "    # X is an input numpy array\n",
        "    # k is no of clusters to form\n",
        "    (n,m) = X.shape\n",
        "    #print(X[0])\n",
        "    # n data points and m dimensions\n",
        "    xtemp = np.copy(X)\n",
        "    means = xtemp[0:k]\n",
        "    #print(X[0])\n",
        "    #oldmeans = np.copy(means)\n",
        "    #oldmeans = oldmeans*0\n",
        "    l = []\n",
        "    for ii in range(0,k):\n",
        "        l.append([])\n",
        "    # initially means are assigned to first k data points\n",
        "\n",
        "    # begin algorithm\n",
        "    flag = 0;\n",
        "    #while (np.sum(means != oldmeans) == 0):\n",
        "    while (1) :\n",
        "        #print(means[0])\n",
        "        flag = flag + 1\n",
        "        # need to assign data points to means\n",
        "        # we will store data points in list of lists \n",
        "        # the first list has k lists in it , each list then corresponds to point in the clutser with that mean\n",
        "        #l = []\n",
        "        for ii in range(0,k):\n",
        "            l[ii] = []\n",
        "        # l[i] is a list of data points in the cluster with mean means[i]\n",
        "        oldmeans = np.copy(means)\n",
        "        #assignment step\n",
        "        for jj in range(0,n):\n",
        "            dist = []\n",
        "            for pp in range(0,k):\n",
        "                sum = 0\n",
        "                sum = np.dot( means[pp]-X[jj]  , means[pp]-X[jj])\n",
        "                dist.append(sum)\n",
        "            temp = min(dist)\n",
        "            ind = dist.index(temp)\n",
        "            l[ind].append(np.copy(X[jj]))\n",
        "            #if (jj==0):\n",
        "                #print(ind)\n",
        "        #print(X[0])\n",
        "        #print(len(l))\n",
        "        #print(l[0][0])\n",
        "        #for ss in range(4):\n",
        "            #for ss2 in range(4):\n",
        "                #print(l[0][ss][ss2])\n",
        "        \n",
        "        #update step\n",
        "        for jj in range(0,k):\n",
        "            # calculate new means\n",
        "            sum1 = np.zeros(m)\n",
        "            for tt in range(len(l[jj])):\n",
        "                sum1 = sum1 + np.array(l[jj][tt])\n",
        "            means[jj] = sum1/len(l[jj])\n",
        "\n",
        "        if(np.sum(means != oldmeans) == 0):\n",
        "            break\n",
        "    # finding cost function\n",
        "    #print(flag)\n",
        "    cost = 0\n",
        "    for ii in range(0,k):\n",
        "        for jj in range(len(l[ii])):\n",
        "            cost = cost + np.dot( means[ii] - l[ii][jj]  , means[ii] - l[ii][jj])\n",
        "\n",
        "    return [cost/n , flag]\n",
        "\n",
        "\n",
        "\n",
        "def kmeans1(X,k):\n",
        "    # X is an input numpy array\n",
        "    # k is no of clusters to form\n",
        "    (n,m) = X.shape\n",
        "    #print(X[0])\n",
        "    # n data points and m dimensions\n",
        "    #oldmeans = np.copy(means)\n",
        "    #oldmeans = oldmeans*0\n",
        "    xtemp = np.copy(X)\n",
        "    means = xtemp[0:k]\n",
        "\n",
        "    l = []\n",
        "    # initially means are assigned to first k data points\n",
        "\n",
        "    # begin algorithm\n",
        "    flag = 0;\n",
        "    #while (np.sum(means != oldmeans) != 0):\n",
        "    while (1):\n",
        "        flag = flag + 1\n",
        "        # need to assign data points to means\n",
        "        # we will store data points in list of lists \n",
        "        # the first list has k lists in it , each list then corresponds to point in the clutser with that mean\n",
        "        l = []\n",
        "        for ii in range(0,k):\n",
        "            l.append([])\n",
        "        # l[i] is a list of data points in the cluster with mean means[i]\n",
        "        oldmeans = np.copy(means)\n",
        "        #assignment step\n",
        "        for jj in range(0,n):\n",
        "            dist = []\n",
        "            for pp in range(0,k):\n",
        "                sum = 0\n",
        "                sum = np.dot( means[pp]-X[jj]  , means[pp]-X[jj])\n",
        "                dist.append(sum)\n",
        "            temp = min(dist)\n",
        "            ind = dist.index(temp)\n",
        "            l[ind].append(np.copy(X[jj]))\n",
        "        \n",
        "        #update step\n",
        "        for jj in range(0,k):\n",
        "            # calculate new means\n",
        "            sum = np.zeros(m)\n",
        "            for tt in range(len(l[jj])):\n",
        "                sum = sum + l[jj][tt]\n",
        "            means[jj] = sum/len(l[jj])\n",
        "\n",
        "        if(np.sum(means != oldmeans) == 0):\n",
        "            break\n",
        "\n",
        "    res = []\n",
        "    res.append(l)\n",
        "    res.append(means)\n",
        "\n",
        "    return res\n",
        "        \n"
      ],
      "execution_count": 55,
      "outputs": []
    },
    {
      "cell_type": "markdown",
      "metadata": {
        "id": "t1TtiFGnbja_"
      },
      "source": [
        ""
      ]
    },
    {
      "cell_type": "markdown",
      "metadata": {
        "id": "oxn_5V_M2YOa"
      },
      "source": [
        "**Cell type : TextRead**\n",
        "\n",
        "# Problem 5\n",
        "\n",
        "#### 5a) Run PCA algorithm on the given data-set. Plot the cumulative percentage variance explained by the principal components. Report the number of principal components that contribute to 90% of the variance in the dataset.\n",
        "\n",
        "\n"
      ]
    },
    {
      "cell_type": "code",
      "metadata": {
        "id": "03-5tY9-2YOc",
        "colab": {
          "base_uri": "https://localhost:8080/",
          "height": 296
        },
        "outputId": "e1abe747-f455-4611-e4ae-f6f6fc26b1d8"
      },
      "source": [
        "# Cell type : CodeWrite\n",
        "# write the code for loading the data, running the PCA algorithm, and plotting. \n",
        "# (Use the functions written previously.)\n",
        "\n",
        "f = np.load(\"Data.npz\")\n",
        "dataarr = f.files[0]\n",
        "inputdata = f[dataarr]\n",
        "X = inputdata\n",
        "\n",
        "xaxis = []\n",
        "for i in range(1,65):\n",
        "    xaxis.append(i)\n",
        "\n",
        "# xaxis has 1 to 64\n",
        "\n",
        "yaxis = []\n",
        "\n",
        "X_bar = np.mean(X,axis = 0)[None, :]\n",
        "S = np.dot(X.T-X_bar.T, X-X_bar)/len(X)\n",
        "eigenvals, eigenvecs = np.linalg.eig(S)\n",
        "sum =0;\n",
        "for ii in range(0,64):\n",
        "    sum= sum + eigenvals[ii]\n",
        "\n",
        "count =0\n",
        "\n",
        "for jj in range(1,65):\n",
        "    sum2 =0\n",
        "    for tt in range(0,jj):\n",
        "        sum2 = sum2 + eigenvals[tt]\n",
        "    sum3 = sum2/sum\n",
        "    yaxis.append(sum3*100)\n",
        "    if sum3 >= 0.9 :\n",
        "        count += 1\n",
        "\n",
        "#print(count)\n",
        "\n",
        "plt.scatter(xaxis,yaxis,c = \"blue\")\n",
        "plt.xlabel(\"x-axis is no of  Principal  Components\")\n",
        "plt.ylabel(\"y-axis is percentage variance\")\n",
        "plt.show()\n",
        "plt.savefig(\"venu.png\")\n",
        "plt.close()\n",
        "plt.savefig(\"venu.png\")\n",
        "\n",
        "#input has 1797 X 64 matrix \n",
        "#this input will be given to PCA function\n",
        "# do pca for m=1 to 64 and plot and report 90% point\n",
        "\n"
      ],
      "execution_count": 56,
      "outputs": [
        {
          "output_type": "display_data",
          "data": {
            "image/png": "[encoded data removed]",
            "text/plain": [
              "<Figure size 432x288 with 1 Axes>"
            ]
          },
          "metadata": {
            "tags": [],
            "needs_background": "light"
          }
        },
        {
          "output_type": "display_data",
          "data": {
            "text/plain": [
              "<Figure size 432x288 with 0 Axes>"
            ]
          },
          "metadata": {
            "tags": []
          }
        }
      ]
    },
    {
      "cell_type": "markdown",
      "metadata": {
        "id": "A4l-j-e-sDr1"
      },
      "source": [
        "####5b)  Perform reconstruction of data using the dimensionality-reduced data considering the number of dimensions [2,4,8,16]. Report the Mean Square Error (MSE) between the original data and reconstructed data, and interpret the optimal dimensions $\\hat{d}$ based on the MSE values.\n",
        "\n"
      ]
    },
    {
      "cell_type": "code",
      "metadata": {
        "id": "-imwHLynsTee",
        "colab": {
          "base_uri": "https://localhost:8080/",
          "height": 279
        },
        "outputId": "edcc0d71-b318-47e8-d782-8e8712e3a130"
      },
      "source": [
        "# Cell type : CodeWrite\n",
        "# Write the code for data reconstruction, run the algorithm for dimensions.\n",
        "\n",
        "f = np.load(\"Data.npz\")\n",
        "dataarr = f.files[0]\n",
        "inputdata = f[dataarr]\n",
        "X = inputdata\n",
        "(n,m) = X.shape\n",
        "\n",
        "l = [2,4,8,16]\n",
        "\n",
        "x2 = []\n",
        "\n",
        "for ii in range(len(l)):\n",
        "    x2.append( PCA1(l[ii],64,X) )\n",
        "\n",
        "# find mean sqaure errors\n",
        "error = []\n",
        "\n",
        "for ii in range(len(l)):\n",
        "    sum = 0\n",
        "    for jj in range(n):\n",
        "        for kk in range(m):\n",
        "            sum = sum + ( x2[ii][jj][kk] - X[jj][kk] ) * ( x2[ii][jj][kk] - X[jj][kk] )\n",
        "    sum = sum/n\n",
        "    error.append(sum)\n",
        "\n",
        "xaxis = [2,4,8,16]\n",
        "#print(error)\n",
        "plt.scatter(xaxis,error)\n",
        "plt.xlabel(\"x-axis is number of dimensions\")\n",
        "plt.ylabel(\"y-axis is mean square error\")\n",
        "plt.show()\n",
        "plt.close()\n",
        "\n",
        "#print(l[error.index(min(error))])\n",
        "\n",
        "#print(error)\n",
        "\n",
        "\n",
        "\n",
        "\n"
      ],
      "execution_count": 57,
      "outputs": [
        {
          "output_type": "display_data",
          "data": {
            "image/png": "[encoded data removed]",
            "text/plain": [
              "<Figure size 432x288 with 1 Axes>"
            ]
          },
          "metadata": {
            "tags": [],
            "needs_background": "light"
          }
        }
      ]
    },
    {
      "cell_type": "markdown",
      "metadata": {
        "id": "n0T5nHANsIVE"
      },
      "source": [
        "####5c) Apply K-means clustering on the reduced dataset from last subpart (b) (i.e., the $R^{64}$ to $R^\\hat{d}$ reduced dataset; pick the initial k points as cluster centers during initialization). Report the optimal choice of K you have made from the set [1...15]. Which method did you choose to find the optimum number of clusters? And explain briefy why you chose that method. Also, show the 2D scatter plot (consider only the first two dimensions of optimal $\\hat{d}$) of the datapoints based on the cluster predicted by K-means (use different color for each cluster).\n"
      ]
    },
    {
      "cell_type": "code",
      "metadata": {
        "id": "mo_Cwhtgc6YF",
        "colab": {
          "base_uri": "https://localhost:8080/",
          "height": 574
        },
        "outputId": "ddda0631-e784-47fb-b468-a686935e9a16"
      },
      "source": [
        "# Cell type : CodeWrite\n",
        "# Write the code for dimensionality reduction, run k-means algorithm on the reduced data-set and do plotting.\n",
        "\n",
        "f = np.load(\"Data.npz\")\n",
        "dataarr = f.files[0]\n",
        "inputdata = f[dataarr]\n",
        "X = inputdata\n",
        "\n",
        "x3 = PCA2(16,64,X)\n",
        "xaxis = []\n",
        "yaxis = []\n",
        "for ii in range(1,16):\n",
        "    xaxis.append(ii)\n",
        "    yaxis.append(kmeans(x3,ii)[0])\n",
        "#print(yaxis)\n",
        "plt.xlabel(\"x-axis is k no of clusters\")\n",
        "plt.ylabel(\"y-axis is error\")\n",
        "plt.plot(xaxis,yaxis , 'bx-')\n",
        "plt.show()\n",
        "plt.close()\n",
        "\n",
        "# printing 2d clusters\n",
        "res = kmeans1(x3,9)\n",
        "clusters = res[0]\n",
        "centroid = res[1]\n",
        "#colors = cm.rainbow(np.linspace(0, 1, 11))\n",
        "colors = [\"red\" , \"blue\" , \"green\" , \"violet\" ,\"orange\" , \"yellow\" , \"pink\" , \"purple\" , \"grey\"]\n",
        "\n",
        "for ii in range(9):\n",
        "    #plot each cluster\n",
        "    xax = []\n",
        "    yax = []\n",
        "    for jj in range(len(clusters[ii])):\n",
        "        xax.append(clusters[ii][jj][0])\n",
        "        yax.append(clusters[ii][jj][1])\n",
        "    plt.scatter(xax , yax ,s=10, color = colors[ii] )\n",
        "\n",
        "xax = []\n",
        "yax = []\n",
        "for ii in range(9):\n",
        "    xax.append(centroid[ii][0])\n",
        "    yax.append(centroid[ii][1])\n",
        "plt.scatter(xax , yax , c = \"black\")\n",
        "plt.title(\"2d scatter plot \")\n",
        "plt.xlabel(\"first dimension\")\n",
        "plt.ylabel(\"second dimension\")\n",
        "\n"
      ],
      "execution_count": 58,
      "outputs": [
        {
          "output_type": "display_data",
          "data": {
            "image/png": "[encoded data removed]",
            "text/plain": [
              "<Figure size 432x288 with 1 Axes>"
            ]
          },
          "metadata": {
            "tags": [],
            "needs_background": "light"
          }
        },
        {
          "output_type": "execute_result",
          "data": {
            "text/plain": [
              "Text(0, 0.5, 'second dimension')"
            ]
          },
          "metadata": {
            "tags": []
          },
          "execution_count": 58
        },
        {
          "output_type": "display_data",
          "data": {
            "image/png": "[encoded data removed]",
            "text/plain": [
              "<Figure size 432x288 with 1 Axes>"
            ]
          },
          "metadata": {
            "tags": [],
            "needs_background": "light"
          }
        }
      ]
    },
    {
      "cell_type": "markdown",
      "metadata": {
        "id": "FOV0CPf5sJ-v"
      },
      "source": [
        "####5d) In the next TextWrite cell, Summarise and explain your observations from the above experiments. Is the PCA+K-means clustering consistent with how your brain would cluster the images?\n",
        "\n"
      ]
    },
    {
      "cell_type": "markdown",
      "metadata": {
        "id": "2u5_HkyasqAo"
      },
      "source": [
        "Cell type : TextWrite\n",
        "\n",
        "Report your observations, MSE values and the method used to choose the optimal number of clusters.\n",
        "\n",
        "MSE decreases as we increase the number of reduced dimednsions,But we need to reduce the input data into considerably smaller dimensions with as minimum MSE as possible , and then do K-means clustering with optimal k.\n",
        "\n",
        "Using PCA reduce into the dimension which has least MSE and then find out optimal no of clusters then do K-means to cluster the images\n",
        "\n",
        "The MSE values are in the list below for M=2,4,8,16 respectively\n",
        "[858.944780848728, 616.1911300562684, 391.79473611497286, 180.93970325737993]\n",
        "\n",
        "We used elbow method to find the optimal number of clusters.\n",
        "\n",
        "Yes the PCA + K-means clustering is consistent with how our brain clusters the images"
      ]
    }
  ]
}